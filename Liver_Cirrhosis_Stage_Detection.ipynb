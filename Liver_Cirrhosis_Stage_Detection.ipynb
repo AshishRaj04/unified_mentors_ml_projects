{
  "nbformat": 4,
  "nbformat_minor": 0,
  "metadata": {
    "colab": {
      "provenance": []
    },
    "kernelspec": {
      "name": "python3",
      "display_name": "Python 3"
    },
    "language_info": {
      "name": "python"
    }
  },
  "cells": [
    {
      "cell_type": "code",
      "execution_count": 1,
      "metadata": {
        "id": "lyK3iCA6Lhwf"
      },
      "outputs": [],
      "source": [
        "import pandas as pd\n",
        "import numpy as np\n",
        "import matplotlib.pyplot as plt\n",
        "import seaborn as sns\n",
        "from sklearn.model_selection import train_test_split\n",
        "from sklearn.ensemble import RandomForestClassifier\n",
        "from sklearn.metrics import accuracy_score, classification_report\n",
        "from sklearn.preprocessing import StandardScaler, LabelEncoder\n",
        "from sklearn.impute import SimpleImputer"
      ]
    },
    {
      "cell_type": "code",
      "source": [
        "FILE_PATH = '/content/liver_cirrhosis.csv'\n",
        "TARGET_COLUMN = 'Stage'"
      ],
      "metadata": {
        "id": "vQAVondFLw3Z"
      },
      "execution_count": 2,
      "outputs": []
    },
    {
      "cell_type": "code",
      "source": [
        "pd.set_option('display.max_columns', None)\n",
        "sns.set_style('whitegrid')"
      ],
      "metadata": {
        "id": "iUtyjT5uL18s"
      },
      "execution_count": 3,
      "outputs": []
    },
    {
      "cell_type": "code",
      "source": [
        "try:\n",
        "    data = pd.read_csv(FILE_PATH)\n",
        "    print(f\"Data loaded successfully. Shape: {data.shape}\")\n",
        "except FileNotFoundError:\n",
        "    print(f\"Error: File not found at '{FILE_PATH}'. Please upload your dataset.\")\n",
        "    data = None\n",
        "\n",
        "if data is not None:\n",
        "    print(\"\\nFirst 5 rows of the dataset:\")\n",
        "    print(data.head())\n",
        "    print(\"\\nDataset Information:\")\n",
        "    data.info()"
      ],
      "metadata": {
        "colab": {
          "base_uri": "https://localhost:8080/"
        },
        "id": "8zRGoBh3L4e5",
        "outputId": "64c23a90-c371-44f7-a23a-22cac6c64635"
      },
      "execution_count": 4,
      "outputs": [
        {
          "output_type": "stream",
          "name": "stdout",
          "text": [
            "Data loaded successfully. Shape: (25000, 19)\n",
            "\n",
            "First 5 rows of the dataset:\n",
            "   N_Days Status     Drug    Age Sex Ascites Hepatomegaly Spiders Edema  \\\n",
            "0    2221      C  Placebo  18499   F       N            Y       N     N   \n",
            "1    1230      C  Placebo  19724   M       Y            N       Y     N   \n",
            "2    4184      C  Placebo  11839   F       N            N       N     N   \n",
            "3    2090      D  Placebo  16467   F       N            N       N     N   \n",
            "4    2105      D  Placebo  21699   F       N            Y       N     N   \n",
            "\n",
            "   Bilirubin  Cholesterol  Albumin  Copper  Alk_Phos    SGOT  Tryglicerides  \\\n",
            "0        0.5        149.0     4.04   227.0     598.0   52.70           57.0   \n",
            "1        0.5        219.0     3.93    22.0     663.0   45.00           75.0   \n",
            "2        0.5        320.0     3.54    51.0    1243.0  122.45           80.0   \n",
            "3        0.7        255.0     3.74    23.0    1024.0   77.50           58.0   \n",
            "4        1.9        486.0     3.54    74.0    1052.0  108.50          109.0   \n",
            "\n",
            "   Platelets  Prothrombin  Stage  \n",
            "0      256.0          9.9      1  \n",
            "1      220.0         10.8      2  \n",
            "2      225.0         10.0      2  \n",
            "3      151.0         10.2      2  \n",
            "4      151.0         11.5      1  \n",
            "\n",
            "Dataset Information:\n",
            "<class 'pandas.core.frame.DataFrame'>\n",
            "RangeIndex: 25000 entries, 0 to 24999\n",
            "Data columns (total 19 columns):\n",
            " #   Column         Non-Null Count  Dtype  \n",
            "---  ------         --------------  -----  \n",
            " 0   N_Days         25000 non-null  int64  \n",
            " 1   Status         25000 non-null  object \n",
            " 2   Drug           25000 non-null  object \n",
            " 3   Age            25000 non-null  int64  \n",
            " 4   Sex            25000 non-null  object \n",
            " 5   Ascites        25000 non-null  object \n",
            " 6   Hepatomegaly   25000 non-null  object \n",
            " 7   Spiders        25000 non-null  object \n",
            " 8   Edema          25000 non-null  object \n",
            " 9   Bilirubin      25000 non-null  float64\n",
            " 10  Cholesterol    25000 non-null  float64\n",
            " 11  Albumin        25000 non-null  float64\n",
            " 12  Copper         25000 non-null  float64\n",
            " 13  Alk_Phos       25000 non-null  float64\n",
            " 14  SGOT           25000 non-null  float64\n",
            " 15  Tryglicerides  25000 non-null  float64\n",
            " 16  Platelets      25000 non-null  float64\n",
            " 17  Prothrombin    25000 non-null  float64\n",
            " 18  Stage          25000 non-null  int64  \n",
            "dtypes: float64(9), int64(3), object(7)\n",
            "memory usage: 3.6+ MB\n"
          ]
        }
      ]
    },
    {
      "cell_type": "code",
      "source": [
        "if data is not None:\n",
        "    # 1. Age Conversion (Days to Years)\n",
        "    data['Age_Years'] = data['Age'] / 365.25\n",
        "    data = data.drop('Age', axis=1)\n",
        "\n",
        "    # 2. Handling Missing Data Artifacts\n",
        "    # Identify placeholder values from inspection (may need adjustment based on full dataset)\n",
        "    placeholders = [369.5105634, 124.7021277, 10.73173077]\n",
        "    data = data.replace(placeholders, np.nan)\n",
        "\n",
        "    # Check for remaining NaNs\n",
        "    print(\"\\nMissing values (after cleaning artifacts):\")\n",
        "    print(data.isnull().sum())\n",
        "    # 3. Imputation (using Median for robustness against outliers)\n",
        "    numerical_cols = ['Bilirubin', 'Cholesterol', 'Albumin', 'Copper', 'Alk_Phos',\n",
        "                      'SGOT', 'Tryglicerides', 'Platelets', 'Prothrombin', 'Age_Years']\n",
        "\n",
        "    imputer = SimpleImputer(strategy='median')\n",
        "    data[numerical_cols] = imputer.fit_transform(data[numerical_cols])\n",
        "\n",
        "    # Impute missing categorical values (e.g., 'Drug', 'Edema', 'Hepatomegaly') with the mode\n",
        "    for col in data.columns:\n",
        "        if data[col].dtype == 'object':\n",
        "            data[col] = data[col].fillna(data[col].mode()[0])\n",
        "\n",
        "    print(\"\\nMissing values (after imputation):\")\n",
        "    print(data.isnull().sum().sum())\n",
        "\n",
        "    # Drop 'N_Days' and 'Status' as they relate to survival time/censoring, not the initial stage detection\n",
        "    data = data.drop(['N_Days', 'Status'], axis=1)"
      ],
      "metadata": {
        "colab": {
          "base_uri": "https://localhost:8080/"
        },
        "id": "vl6PStKsL6o0",
        "outputId": "506dc18a-bad8-4b31-d51b-599213161c67"
      },
      "execution_count": 5,
      "outputs": [
        {
          "output_type": "stream",
          "name": "stdout",
          "text": [
            "\n",
            "Missing values (after cleaning artifacts):\n",
            "N_Days              0\n",
            "Status              0\n",
            "Drug                0\n",
            "Sex                 0\n",
            "Ascites             0\n",
            "Hepatomegaly        0\n",
            "Spiders             0\n",
            "Edema               0\n",
            "Bilirubin           0\n",
            "Cholesterol      8310\n",
            "Albumin             0\n",
            "Copper              0\n",
            "Alk_Phos            0\n",
            "SGOT                0\n",
            "Tryglicerides    8461\n",
            "Platelets           0\n",
            "Prothrombin       150\n",
            "Stage               0\n",
            "Age_Years           0\n",
            "dtype: int64\n",
            "\n",
            "Missing values (after imputation):\n",
            "0\n"
          ]
        }
      ]
    },
    {
      "cell_type": "code",
      "source": [
        "if data is not None:\n",
        "    # 4. Feature Transformation (Encoding)\n",
        "\n",
        "    # Ordinal Encoding for 'Edema' (N < S < Y)\n",
        "    edema_mapping = {'N': 0, 'S': 1, 'Y': 2}\n",
        "    data['Edema_Encoded'] = data['Edema'].map(edema_mapping)\n",
        "    data = data.drop('Edema', axis=1)\n",
        "\n",
        "    # Binary/Nominal Encoding for other features\n",
        "    binary_cols = ['Sex', 'Ascites', 'Hepatomegaly', 'Spiders', 'Drug']\n",
        "\n",
        "    # Map 'M'/'F', 'N'/'Y', 'D'/'Placebo' to 0/1 for simplicity\n",
        "    mapping = {'M': 0, 'F': 1, 'N': 0, 'Y': 1, 'Placebo': 0, 'D-penicillamine': 1}\n",
        "    for col in binary_cols:\n",
        "        if col in data.columns:\n",
        "            data[col] = data[col].map(mapping)\n",
        "\n",
        "    # Separate features (X) and target (y)\n",
        "    X = data.drop(TARGET_COLUMN, axis=1)\n",
        "    y = data[TARGET_COLUMN]\n",
        "\n",
        "    print(\"\\nFeatures after encoding:\")\n",
        "    print(X.head())\n",
        "\n",
        "    # Scaling numerical features\n",
        "    scaler = StandardScaler()\n",
        "    X_scaled = X.copy()\n",
        "\n",
        "    # Re-define numerical columns after dropping/adding\n",
        "    numerical_features_final = [col for col in X.columns if col not in ['Sex', 'Ascites', 'Hepatomegaly', 'Spiders', 'Drug', 'Edema_Encoded']]\n",
        "\n",
        "    X_scaled[numerical_features_final] = scaler.fit_transform(X_scaled[numerical_features_final])\n",
        "    X = X_scaled\n",
        "\n",
        "    # Convert target to integer type (if not already)\n",
        "    y = y.astype(int)\n",
        "\n",
        "    # Check target distribution\n",
        "    print(f\"\\nTarget Variable ('{TARGET_COLUMN}') Distribution:\")\n",
        "    print(y.value_counts().sort_index())\n"
      ],
      "metadata": {
        "colab": {
          "base_uri": "https://localhost:8080/"
        },
        "id": "TSYxfH6UMHv2",
        "outputId": "3a19ae85-16ad-4e7d-d91a-07dad2a4a22b"
      },
      "execution_count": 6,
      "outputs": [
        {
          "output_type": "stream",
          "name": "stdout",
          "text": [
            "\n",
            "Features after encoding:\n",
            "   Drug  Sex  Ascites  Hepatomegaly  Spiders  Bilirubin  Cholesterol  Albumin  \\\n",
            "0     0    1        0             1        0        0.5        149.0     4.04   \n",
            "1     0    0        1             0        1        0.5        219.0     3.93   \n",
            "2     0    1        0             0        0        0.5        320.0     3.54   \n",
            "3     0    1        0             0        0        0.7        255.0     3.74   \n",
            "4     0    1        0             1        0        1.9        486.0     3.54   \n",
            "\n",
            "   Copper  Alk_Phos    SGOT  Tryglicerides  Platelets  Prothrombin  Age_Years  \\\n",
            "0   227.0     598.0   52.70           57.0      256.0          9.9  50.647502   \n",
            "1    22.0     663.0   45.00           75.0      220.0         10.8  54.001369   \n",
            "2    51.0    1243.0  122.45           80.0      225.0         10.0  32.413415   \n",
            "3    23.0    1024.0   77.50           58.0      151.0         10.2  45.084189   \n",
            "4    74.0    1052.0  108.50          109.0      151.0         11.5  59.408624   \n",
            "\n",
            "   Edema_Encoded  \n",
            "0              0  \n",
            "1              0  \n",
            "2              0  \n",
            "3              0  \n",
            "4              0  \n",
            "\n",
            "Target Variable ('Stage') Distribution:\n",
            "Stage\n",
            "1    8265\n",
            "2    8441\n",
            "3    8294\n",
            "Name: count, dtype: int64\n"
          ]
        }
      ]
    },
    {
      "cell_type": "code",
      "source": [
        "if data is not None:\n",
        "    # Split the data (80% train, 20% test)\n",
        "    # Stratify ensures similar proportion of Stages in both sets\n",
        "    X_train, X_test, y_train, y_test = train_test_split(X, y, test_size=0.2, random_state=42, stratify=y)\n",
        "\n",
        "    print(f\"\\nTraining set shape: {X_train.shape}, Test set shape: {X_test.shape}\")\n",
        "\n",
        "    # Initialize and train the Random Forest Classifier\n",
        "    # Using class_weight='balanced' is important due to potential class imbalance\n",
        "    model = RandomForestClassifier(n_estimators=150,\n",
        "                                   max_depth=15,\n",
        "                                   min_samples_leaf=5,\n",
        "                                   random_state=42,\n",
        "                                   n_jobs=-1,\n",
        "                                   class_weight='balanced')\n",
        "\n",
        "    print(\"\\nStarting model training...\")\n",
        "    model.fit(X_train, y_train)\n",
        "    print(\"Model training complete.\")\n"
      ],
      "metadata": {
        "colab": {
          "base_uri": "https://localhost:8080/"
        },
        "id": "WL0H2S9zMMx8",
        "outputId": "73d6f7b2-578f-4e24-93be-a9ff8ffb0ac6"
      },
      "execution_count": 7,
      "outputs": [
        {
          "output_type": "stream",
          "name": "stdout",
          "text": [
            "\n",
            "Training set shape: (20000, 16), Test set shape: (5000, 16)\n",
            "\n",
            "Starting model training...\n",
            "Model training complete.\n"
          ]
        }
      ]
    },
    {
      "cell_type": "code",
      "source": [
        "if data is not None:\n",
        "    # Make predictions on the test set\n",
        "    y_pred = model.predict(X_test)\n",
        "\n",
        "    # Calculate overall accuracy\n",
        "    accuracy = accuracy_score(y_test, y_pred)\n",
        "    print(f\"\\nOverall Test Accuracy: {accuracy:.4f}\")\n",
        "\n",
        "    # Generate a detailed classification report\n",
        "    print(\"\\nClassification Report (Stages 1, 2, 3):\")\n",
        "    print(classification_report(y_test, y_pred, target_names=['Stage 1', 'Stage 2', 'Stage 3'], zero_division=0))\n",
        "\n",
        "    # Feature Importance Visualization\n",
        "    feature_importances = pd.Series(model.feature_importances_, index=X_train.columns)\n",
        "    top_features = feature_importances.nlargest(10)\n",
        "\n",
        "    plt.figure(figsize=(10, 6))\n",
        "    sns.barplot(x=top_features.values, y=top_features.index, palette='plasma')\n",
        "    plt.title('Top 10 Feature Importances (Random Forest)')\n",
        "    plt.xlabel('Importance Score')\n",
        "    plt.ylabel('Feature')\n",
        "    plt.show()\n",
        "\n",
        "    # Interpretation\n",
        "    print(\"\\n--- Model Summary ---\")\n",
        "    print(f\"The model achieved an accuracy of {accuracy:.2f} in detecting the liver cirrhosis stage.\")\n",
        "    print(\"The most important features influencing the stage detection (top 3) are likely:\")\n",
        "    print(top_features.index[:3].tolist())\n"
      ],
      "metadata": {
        "colab": {
          "base_uri": "https://localhost:8080/",
          "height": 1000
        },
        "id": "2Q_i41ElMQzI",
        "outputId": "13187d8f-a215-4a06-9385-1b2b769dd69c"
      },
      "execution_count": 8,
      "outputs": [
        {
          "output_type": "stream",
          "name": "stdout",
          "text": [
            "\n",
            "Overall Test Accuracy: 0.9400\n",
            "\n",
            "Classification Report (Stages 1, 2, 3):\n",
            "              precision    recall  f1-score   support\n",
            "\n",
            "     Stage 1       0.95      0.92      0.93      1653\n",
            "     Stage 2       0.91      0.95      0.93      1688\n",
            "     Stage 3       0.96      0.95      0.96      1659\n",
            "\n",
            "    accuracy                           0.94      5000\n",
            "   macro avg       0.94      0.94      0.94      5000\n",
            "weighted avg       0.94      0.94      0.94      5000\n",
            "\n"
          ]
        },
        {
          "output_type": "stream",
          "name": "stderr",
          "text": [
            "/tmp/ipython-input-3762125527.py:18: FutureWarning: \n",
            "\n",
            "Passing `palette` without assigning `hue` is deprecated and will be removed in v0.14.0. Assign the `y` variable to `hue` and set `legend=False` for the same effect.\n",
            "\n",
            "  sns.barplot(x=top_features.values, y=top_features.index, palette='plasma')\n"
          ]
        },
        {
          "output_type": "display_data",
          "data": {
            "text/plain": [
              "<Figure size 1000x600 with 1 Axes>"
            ],
            "image/png": "[encoded data removed]"
          },
          "metadata": {}
        },
        {
          "output_type": "stream",
          "name": "stdout",
          "text": [
            "\n",
            "--- Model Summary ---\n",
            "The model achieved an accuracy of 0.94 in detecting the liver cirrhosis stage.\n",
            "The most important features influencing the stage detection (top 3) are likely:\n",
            "['Prothrombin', 'Platelets', 'Albumin']\n"
          ]
        }
      ]
    },
    {
      "cell_type": "code",
      "source": [],
      "metadata": {
        "id": "bxzSAymcMWXU"
      },
      "execution_count": null,
      "outputs": []
    }
  ]
}